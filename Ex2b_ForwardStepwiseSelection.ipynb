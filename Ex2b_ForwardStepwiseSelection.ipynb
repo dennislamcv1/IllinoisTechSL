{
 "cells": [
  {
   "cell_type": "markdown",
   "id": "0db5f102-687a-4c94-8b09-9e68d27c436c",
   "metadata": {},
   "source": [
    "# Example 2B: Forward Stepwise Selection \n",
    "\n",
    "Forward Stepwise Selection (FSS) is less computationally complex than BSS because it does not consider every possibility. Instead, it looks to construct a model by adding one variable at a time. In the first iteration, it will consider which of the variables is most productive to add. Once it adds that variable, it will repeat the process with the remaining variables. \n",
    "\n",
    "For example, consider the potential inputs of $X_1, X_2, X_3, X_4$. In the first iteration, all single-variable models are considered. Suppose the model with $X_3$ is the most informative. Then we consider all two-variable models where one variable is $X_3$. That means the model with $X_1$ and $X_2$, for example, is not looked at. \n",
    "\n",
    "If we are considering $p$ predictors, FSS will consider $\\frac{p(p+1)}{2}$ possible models. This scales polynomially ($p^2$) with predictors, which is significantly better than BSS. "
   ]
  },
  {
   "cell_type": "code",
   "execution_count": 1,
   "id": "13121304-1908-4530-99f6-d17f0df81a2a",
   "metadata": {},
   "outputs": [],
   "source": [
    "# Standard imports \n",
    "import pandas as pd\n",
    "import numpy as np\n",
    "import matplotlib.pyplot as plt"
   ]
  },
  {
   "cell_type": "markdown",
   "id": "7e354d68-5476-4351-acc7-3efe70e28d7a",
   "metadata": {},
   "source": [
    "Recall that the data we generate here is 4-dimensionalbut that the true model is the following: $$y = 1 + X_1 + 2.5 X_2 + \\epsilon.$$\n",
    "\n",
    "Because we are working with a higher dimensional dataset, we convert it to a data frame for ease. "
   ]
  },
  {
   "cell_type": "code",
   "execution_count": 2,
   "id": "5b1704d6-c2b4-4b07-88e1-ae5929543de3",
   "metadata": {},
   "outputs": [],
   "source": [
    "# Generate synthetic data\n",
    "np.random.seed(2) # to ensure consistent results\n",
    "X = np.random.randn(100, 4)  # 100 samples, 4 independent variables\n",
    "y = 1 + X[:, 0] + 2.5*X[:, 2] + np.random.randn(100) #true model uses only X1 and X3\n",
    "\n",
    "# Convert X to a DataFrame for easier manipulation\n",
    "X_df = pd.DataFrame(X, columns=['X1', 'X2', 'X3', 'X4'])"
   ]
  },
  {
   "cell_type": "markdown",
   "id": "f5e041bd-3d07-4c4c-9778-2a0157475848",
   "metadata": {},
   "source": [
    "Recall that for convenience, we define a function called fit_model() to perform linear regression. This makes it easier to write our code for forward stepwise selection, just like best subset selection. "
   ]
  },
  {
   "cell_type": "code",
   "execution_count": 3,
   "id": "98d64bd9-04ea-4220-b6a0-156668b68309",
   "metadata": {},
   "outputs": [],
   "source": [
    "import statsmodels.api as sm\n",
    "\n",
    "def fit_model(predictors):\n",
    "    X_sm = sm.add_constant(X_df[list(predictors)]) #include the intercept\n",
    "    model = sm.OLS(y, X_sm).fit()\n",
    "    return model"
   ]
  },
  {
   "cell_type": "markdown",
   "id": "eea68448-bfc0-450f-949f-9815b9d0b14c",
   "metadata": {},
   "source": [
    "As we did with Best Subset Selection, lets walk through the pseudocode of the algorithm. The idea is that we start with considering one-variable models and select the best candidate. Then we consider adding a second variable and consider these two-variable models. Whichever is best, we store. Then we consider adding a third variable and look at all the three-variable models, and so on. "
   ]
  },
  {
   "cell_type": "markdown",
   "id": "94950689-f3e9-4243-a285-23dd6d9ee5c9",
   "metadata": {},
   "source": [
    "**Function** `forward_stepwise_selection(data, response_variable)`\n",
    "\n",
    "**Input:**\n",
    "- `data`: Dataset containing predictor variables and response variable\n",
    "- `response_variable`: Target variable for the regression model\n",
    "\n",
    "**Output:**\n",
    "- A list of models with scores added in each step\n",
    "\n",
    "1. Initialize list `remaining_predictors` with all predictors in `data`.\n",
    "2. Initialize empty list `current_predictors`.\n",
    "3. Initialize `best_score` to 0.\n",
    "4. Initialize empty list `models`.\n",
    "\n",
    "5. **For** `i` from 1 to the number of columns in `data`, do the following:\n",
    "    1. Set `best_candidate_score` to 0.\n",
    "    2. Set `best_candidate` to None.\n",
    "    3. Set `trial_columns` to `current_predictors`.\n",
    "    \n",
    "    4. **For** each `predictor` in `remaining_predictors`, do the following:\n",
    "        - Add `predictor` to `trial_columns`.\n",
    "        - Fit a regression model using `trial_columns`.\n",
    "        - **If** the R-squared of the model is greater than `best_candidate_score`, then:\n",
    "            1. Set `best_candidate_score` to the current R-squared.\n",
    "            2. Set `best_candidate` to `predictor`.\n",
    "        - Remove `predictor` from `trial_columns`.\n",
    "    \n",
    "    5. **If** `best_candidate` is not None, then:\n",
    "        - Add `best_candidate` to `current_predictors`.\n",
    "        - Remove `best_candidate` from `remaining_predictors`.\n",
    "        - Append a copy of `current_predictors` and `best_candidate_score` to `models`.\n",
    "\n",
    "6. **Return** `models`\n",
    "\n",
    "We can translate this into Python using a similar style to the Best Subset Selection code. "
   ]
  },
  {
   "cell_type": "code",
   "execution_count": 4,
   "id": "938b00e2-ac9f-43c6-aaa2-e968c53f909e",
   "metadata": {},
   "outputs": [],
   "source": [
    "import numpy as np\n",
    "\n",
    "def forward_stepwise_selection(data, response_variable):\n",
    "    remaining_predictors = list(data.columns)\n",
    "    current_predictors = []\n",
    "    best_score = 0\n",
    "    models = []\n",
    "    \n",
    "    for i in range(data.shape[1]):\n",
    "        best_candidate_score = 0\n",
    "        best_candidate = None\n",
    "        trial_columns = list(current_predictors)  # Create a copy to avoid side effects\n",
    "        \n",
    "        for predictor in remaining_predictors:\n",
    "            trial_columns.append(predictor)\n",
    "\n",
    "            model = fit_model(trial_columns)\n",
    "            rsquared = model.rsquared\n",
    "            \n",
    "            if rsquared > best_candidate_score:\n",
    "                best_candidate_score = rsquared\n",
    "                best_candidate = predictor\n",
    "            \n",
    "            trial_columns.remove(predictor)\n",
    "        \n",
    "        if best_candidate:\n",
    "            current_predictors.append(best_candidate)\n",
    "            remaining_predictors.remove(best_candidate)\n",
    "            models.append((list(current_predictors), best_candidate_score))\n",
    "\n",
    "    return models"
   ]
  },
  {
   "cell_type": "markdown",
   "id": "43c88d2e-0db2-4474-8cce-4c75ea7598e7",
   "metadata": {},
   "source": [
    "We get similar results to best subset selection. Remember that the choice of $R^2$ as a metric is not ideal. The concept is the same with other metrics, but we will learn about these other metrics later in the course.  "
   ]
  },
  {
   "cell_type": "code",
   "execution_count": 5,
   "id": "d3a72006-046e-43c7-b1fd-d9344b7f363e",
   "metadata": {},
   "outputs": [
    {
     "name": "stdout",
     "output_type": "stream",
     "text": [
      "[(['X3'], 0.8351399960976169), (['X3', 'X1'], 0.9072405523823648), (['X3', 'X1', 'X4'], 0.9082155577104886), (['X3', 'X1', 'X4', 'X2'], 0.9085282422135321)]\n"
     ]
    }
   ],
   "source": [
    "results = forward_stepwise_selection(X_df, y)\n",
    "print(results)"
   ]
  },
  {
   "cell_type": "markdown",
   "id": "954b216c-2225-4725-92ef-a4c2c3b55e29",
   "metadata": {},
   "source": [
    "Considering the statistics, we see that the actual best model is not the one with the highest $R^2$ value. "
   ]
  },
  {
   "cell_type": "code",
   "execution_count": 6,
   "id": "bb5ccbee-7e40-4809-9923-f71c1631ed37",
   "metadata": {},
   "outputs": [
    {
     "name": "stdout",
     "output_type": "stream",
     "text": [
      "                            OLS Regression Results                            \n",
      "==============================================================================\n",
      "Dep. Variable:                      y   R-squared:                       0.835\n",
      "Model:                            OLS   Adj. R-squared:                  0.833\n",
      "Method:                 Least Squares   F-statistic:                     496.4\n",
      "Date:                Sat, 25 Nov 2023   Prob (F-statistic):           3.82e-40\n",
      "Time:                        16:09:44   Log-Likelihood:                -163.93\n",
      "No. Observations:                 100   AIC:                             331.9\n",
      "Df Residuals:                      98   BIC:                             337.1\n",
      "Df Model:                           1                                         \n",
      "Covariance Type:            nonrobust                                         \n",
      "==============================================================================\n",
      "                 coef    std err          t      P>|t|      [0.025      0.975]\n",
      "------------------------------------------------------------------------------\n",
      "const          0.7481      0.126      5.929      0.000       0.498       0.999\n",
      "X3             2.7849      0.125     22.281      0.000       2.537       3.033\n",
      "==============================================================================\n",
      "Omnibus:                        0.971   Durbin-Watson:                   1.885\n",
      "Prob(Omnibus):                  0.615   Jarque-Bera (JB):                0.999\n",
      "Skew:                           0.113   Prob(JB):                        0.607\n",
      "Kurtosis:                       2.566   Cond. No.                         1.07\n",
      "==============================================================================\n",
      "\n",
      "Notes:\n",
      "[1] Standard Errors assume that the covariance matrix of the errors is correctly specified.\n"
     ]
    }
   ],
   "source": [
    "model = fit_model(results[0][0]) # compute the top model\n",
    "print(model.summary()) # print the statistics"
   ]
  },
  {
   "cell_type": "markdown",
   "id": "22630154-1f24-465f-8040-35d03bf9d7c3",
   "metadata": {},
   "source": [
    "Still, we can deduce that the best should be the two-variable model because the improvement in the $R^2$ score is marginal after that.  "
   ]
  },
  {
   "cell_type": "code",
   "execution_count": 7,
   "id": "5bf0ca87-04b5-4168-854e-e30ae00e7e3d",
   "metadata": {},
   "outputs": [
    {
     "data": {
      "image/png": "[encoded data removed]",
      "text/plain": [
       "<Figure size 640x480 with 1 Axes>"
      ]
     },
     "metadata": {},
     "output_type": "display_data"
    }
   ],
   "source": [
    "# Extract the third values and the lengths of tuples from the results list\n",
    "r2_scores = [result[1] for result in results]\n",
    "num_vars = [len(result[0]) for result in results]\n",
    "\n",
    "# Create a scatter plot\n",
    "plt.plot(num_vars, r2_scores, marker='o', label=\"Best Subsets\")\n",
    "plt.xlabel('Number of Variables')\n",
    "plt.ylabel('R^2 Values')\n",
    "plt.grid(True)\n",
    "\n",
    "# Show the plot\n",
    "plt.show()"
   ]
  },
  {
   "cell_type": "markdown",
   "id": "74b5fee2-856f-4e0e-8024-069749e2f0bc",
   "metadata": {},
   "source": [
    "The estimated model for this ideal is identical to the best subset selection case. "
   ]
  },
  {
   "cell_type": "code",
   "execution_count": 8,
   "id": "f781a150-bcf7-445f-9cbc-95d52e3a125c",
   "metadata": {},
   "outputs": [
    {
     "name": "stdout",
     "output_type": "stream",
     "text": [
      "const    0.818964\n",
      "X3       2.612396\n",
      "X1       0.763527\n",
      "dtype: float64\n"
     ]
    }
   ],
   "source": [
    "model = fit_model(results[1][0]) \n",
    "print(model.params)"
   ]
  },
  {
   "cell_type": "code",
   "execution_count": null,
   "id": "0ee06c44-da87-4288-8950-b3bbe46caa25",
   "metadata": {},
   "outputs": [],
   "source": []
  }
 ],
 "metadata": {
  "kernelspec": {
   "display_name": "Python 3 (ipykernel)",
   "language": "python",
   "name": "python3"
  },
  "language_info": {
   "codemirror_mode": {
    "name": "ipython",
    "version": 3
   },
   "file_extension": ".py",
   "mimetype": "text/x-python",
   "name": "python",
   "nbconvert_exporter": "python",
   "pygments_lexer": "ipython3",
   "version": "3.11.6"
  }
 },
 "nbformat": 4,
 "nbformat_minor": 5
}
