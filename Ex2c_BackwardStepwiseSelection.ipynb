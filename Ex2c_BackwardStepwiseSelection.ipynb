{
 "cells": [
  {
   "cell_type": "markdown",
   "id": "578561fd-e0f0-4ec9-8b55-ef062582f3a4",
   "metadata": {},
   "source": [
    "# Example 2C: Backward Stepwise Selection\n",
    "\n",
    "Backward Stepwise Selection (BwSS) attempts to remove predictors from the list and find the best models. This approach has the same complexity as FSS; it just approaches the problem from the perspective of removing variables rather than adding them. Below is pseudocode for this approach. It is important to note that this code *excludes* the full model from the returned list of models. This, however, could easily be adjusted. How would you change the pseudocode below to include the full model in `models`?"
   ]
  },
  {
   "cell_type": "markdown",
   "id": "6c7f6442-e38e-4cde-adbc-6192d3710bcc",
   "metadata": {},
   "source": [
    "**Function** `backward_stepwise_selection(data, response_variable)`\n",
    "\n",
    "**Input:**\n",
    "- `data`: Dataset containing predictor variables and response variable\n",
    "- `response_variable`: Target variable for the regression model\n",
    "\n",
    "**Output:**\n",
    "- A list of models with scores added in each step\n",
    "\n",
    "1. Initialize list `current_predictors` with all predictors in `data`.\n",
    "2. Initialize an empty list `remaining_predictors`.\n",
    "3. Initialize `best_score` to 0.\n",
    "4. Initialize an empty list `models`.\n",
    "\n",
    "5. **For** `i` from 1 to the number of columns in `data`, do the following:\n",
    "    1. Set `best_candidate_score` to 0.\n",
    "    2. Set `best_candidate` to None.\n",
    "\n",
    "    3. **For** each `predictor` in `current_predictors`, do the following:\n",
    "        - Create a copy of `current_predictors` excluding `predictor`.\n",
    "        - Fit a regression model using the remaining predictors.\n",
    "        - **If** the R-squared of the model is greater than `best_candidate_score`, then:\n",
    "            1. Set `best_candidate_score` to the current R-squared.\n",
    "            2. Set `best_candidate` to `predictor`.\n",
    "\n",
    "    4. **If** `best_candidate` is not None, then:\n",
    "        - Remove `best_candidate` from `current_predictors`.\n",
    "        - Append a copy of `current_predictors` and `best_candidate_score` to `models`.\n",
    "\n",
    "6. **Return** `models`\n"
   ]
  },
  {
   "cell_type": "code",
   "execution_count": 1,
   "id": "9f1da83f-b6b5-48ed-9559-2c5e0aa3886c",
   "metadata": {},
   "outputs": [],
   "source": [
    "def backward_stepwise_selection(data, response_variable):\n",
    "    remaining_predictors = list(data.columns)\n",
    "    current_predictors = list(data.columns)\n",
    "    best_score = 0\n",
    "    models = []\n",
    "\n",
    "    for i in range(data.shape[1]):\n",
    "        best_candidate_score = 0\n",
    "        best_candidate = None\n",
    "\n",
    "        for predictor in current_predictors:\n",
    "            trial_columns = [col for col in current_predictors if col != predictor]\n",
    "\n",
    "            model = fit_model(trial_columns)\n",
    "            rsquared = model.rsquared\n",
    "\n",
    "            if rsquared > best_candidate_score:\n",
    "                best_candidate_score = rsquared\n",
    "                best_candidate = predictor\n",
    "\n",
    "        if best_candidate:\n",
    "            current_predictors.remove(best_candidate)\n",
    "            models.append((list(current_predictors), best_candidate_score))\n",
    "\n",
    "    return models"
   ]
  },
  {
   "cell_type": "markdown",
   "id": "becc509c-4238-4c78-ac49-0d91a193c878",
   "metadata": {},
   "source": [
    "Results are similar to the previous cases. You are encouraged to copy and paste the relevant code to see those results. "
   ]
  }
 ],
 "metadata": {
  "kernelspec": {
   "display_name": "Python 3 (ipykernel)",
   "language": "python",
   "name": "python3"
  },
  "language_info": {
   "codemirror_mode": {
    "name": "ipython",
    "version": 3
   },
   "file_extension": ".py",
   "mimetype": "text/x-python",
   "name": "python",
   "nbconvert_exporter": "python",
   "pygments_lexer": "ipython3",
   "version": "3.11.6"
  }
 },
 "nbformat": 4,
 "nbformat_minor": 5
}
