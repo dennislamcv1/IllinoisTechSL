{
 "cells": [
  {
   "cell_type": "markdown",
   "id": "b7186aeb-103f-4766-afd2-6a8c17894d89",
   "metadata": {},
   "source": [
    "# Python Coding Exercise for Module 2, Lesson 1: Linear Regression\n",
    "\n",
    "Write a Python function that performs linear regression on a given dataset and prints out the regression coefficients, p-values for each coefficient, and the R-squared value of the model.\n",
    "\n",
    "Your function should accept two parameters: X, a 2D list or NumPy array with the predictor variables, and y, a 1D list or NumPy array with the dependent variable.\n",
    "\n",
    "### Your tasks are:\n",
    "\n",
    "- Fit a linear regression model using the provided X and y.\n",
    "- Print the coefficients of the model.\n",
    "- Perform a statistical test on each coefficient to determine if it is significantly different from zero, and print the p-value for each test.\n",
    "- Print the R-squared value of the model.\n",
    "\n",
    "### Constraints:\n",
    "\n",
    "- Use the statsmodels library for statistical calculations.\n",
    "- Assume that X and y are already preprocessed (no missing values, all numeric data, etc.)."
   ]
  },
  {
   "cell_type": "code",
   "execution_count": null,
   "id": "a42ff162-1c51-4207-b46e-1a649a1752b4",
   "metadata": {},
   "outputs": [],
   "source": [
    "import numpy as np\n",
    "import statsmodels.api as sm"
   ]
  },
  {
   "cell_type": "code",
   "execution_count": null,
   "id": "33435415-002a-408e-a1e0-ddcbf7bf4dd2",
   "metadata": {},
   "outputs": [],
   "source": [
    "def linear_regression_analysis(X, y):\n",
    "    # Adding a constant to get an intercept\n",
    "    \n",
    "    \n",
    "    # Fitting the regression model\n",
    "    \n",
    "    \n",
    "    # Getting the coefficients and p-values\n",
    "    \n",
    "    \n",
    "    # Printing the results\n",
    "    "
   ]
  },
  {
   "cell_type": "code",
   "execution_count": null,
   "id": "4000d41c-bac2-4fff-a168-ea284672bcef",
   "metadata": {},
   "outputs": [],
   "source": [
    "# Sample input\n",
    "X = [[1, 2], [2, 1], [2, 3], [3, 4]]\n",
    "y = [2, 3, 5, 4]\n",
    "\n",
    "# Function call\n",
    "linear_regression_analysis(X, y)"
   ]
  },
  {
   "cell_type": "markdown",
   "id": "f5cdb1b6-735d-4666-af36-e363868cd4ba",
   "metadata": {},
   "source": [
    "Once you are done, answer the following questions:\n",
    "\n",
    "1. What are the values of the intercept and coefficients?\n",
    "2. Which coefficients are statistically significant?\n",
    "3. What is the R^2 value you calculated?"
   ]
  },
  {
   "cell_type": "code",
   "execution_count": null,
   "id": "0763f056-9c21-42c9-bec8-f51eb9ea2fd6",
   "metadata": {},
   "outputs": [],
   "source": []
  }
 ],
 "metadata": {
  "kernelspec": {
   "display_name": "Python 3 (ipykernel)",
   "language": "python",
   "name": "python3"
  },
  "language_info": {
   "codemirror_mode": {
    "name": "ipython",
    "version": 3
   },
   "file_extension": ".py",
   "mimetype": "text/x-python",
   "name": "python",
   "nbconvert_exporter": "python",
   "pygments_lexer": "ipython3",
   "version": "3.11.6"
  }
 },
 "nbformat": 4,
 "nbformat_minor": 5
}
