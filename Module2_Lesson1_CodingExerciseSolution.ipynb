{
 "cells": [
  {
   "cell_type": "markdown",
   "id": "b7186aeb-103f-4766-afd2-6a8c17894d89",
   "metadata": {},
   "source": [
    "# Python Coding Exercise for Module 2, Lesson 1: Linear Regression\n",
    "\n",
    "Write a Python function that performs linear regression on a given dataset and prints out the regression coefficients, p-values for each coefficient, and the R-squared value of the model.\n",
    "\n",
    "Your function should accept two parameters: X, a 2D list or NumPy array with the predictor variables, and y, a 1D list or NumPy array with the dependent variable.\n",
    "\n",
    "### Your tasks are:\n",
    "\n",
    "- Fit a linear regression model using the provided X and y.\n",
    "- Print the coefficients of the model.\n",
    "- Perform a statistical test on each coefficient to determine if it is significantly different from zero, and print the p-value for each test.\n",
    "- Print the R-squared value of the model.\n",
    "\n",
    "### Constraints:\n",
    "\n",
    "- Use the statsmodels library for statistical calculations.\n",
    "- Assume that X and y are already preprocessed (no missing values, all numeric data, etc.)."
   ]
  },
  {
   "cell_type": "code",
   "execution_count": 1,
   "id": "a42ff162-1c51-4207-b46e-1a649a1752b4",
   "metadata": {},
   "outputs": [],
   "source": [
    "import numpy as np\n",
    "import statsmodels.api as sm"
   ]
  },
  {
   "cell_type": "code",
   "execution_count": 2,
   "id": "33435415-002a-408e-a1e0-ddcbf7bf4dd2",
   "metadata": {},
   "outputs": [],
   "source": [
    "def linear_regression_analysis(X, y):\n",
    "    # Adding a constant to get an intercept\n",
    "    X = sm.add_constant(X)\n",
    "    \n",
    "    # Fitting the regression model\n",
    "    model = sm.OLS(y, X).fit()\n",
    "    \n",
    "    # Getting the coefficients and p-values\n",
    "    coefficients = model.params\n",
    "    summary = model.summary()\n",
    "    r_squared = model.rsquared\n",
    "    \n",
    "    # Printing the results\n",
    "    print('Coefficients:', coefficients)\n",
    "    print('R-squared:', r_squared)\n",
    "    print(summary)\n",
    "    "
   ]
  },
  {
   "cell_type": "code",
   "execution_count": 3,
   "id": "4000d41c-bac2-4fff-a168-ea284672bcef",
   "metadata": {},
   "outputs": [
    {
     "name": "stdout",
     "output_type": "stream",
     "text": [
      "Coefficients: [1.33333333 0.66666667 0.33333333]\n",
      "R-squared: 0.46666666666666656\n",
      "                            OLS Regression Results                            \n",
      "==============================================================================\n",
      "Dep. Variable:                      y   R-squared:                       0.467\n",
      "Model:                            OLS   Adj. R-squared:                 -0.600\n",
      "Method:                 Least Squares   F-statistic:                    0.4375\n",
      "Date:                Thu, 09 Nov 2023   Prob (F-statistic):              0.730\n",
      "Time:                        14:37:35   Log-Likelihood:                -4.8648\n",
      "No. Observations:                   4   AIC:                             15.73\n",
      "Df Residuals:                       1   BIC:                             13.89\n",
      "Df Model:                           2                                         \n",
      "Covariance Type:            nonrobust                                         \n",
      "==============================================================================\n",
      "                 coef    std err          t      P>|t|      [0.025      0.975]\n",
      "------------------------------------------------------------------------------\n",
      "const          1.3333      2.494      0.535      0.687     -30.362      33.028\n",
      "x1             0.6667      1.491      0.447      0.732     -18.275      19.608\n",
      "x2             0.3333      0.943      0.354      0.784     -11.646      12.313\n",
      "==============================================================================\n",
      "Omnibus:                          nan   Durbin-Watson:                   2.333\n",
      "Prob(Omnibus):                    nan   Jarque-Bera (JB):                0.611\n",
      "Skew:                           0.816   Prob(JB):                        0.737\n",
      "Kurtosis:                       2.000   Cond. No.                         11.7\n",
      "==============================================================================\n",
      "\n",
      "Notes:\n",
      "[1] Standard Errors assume that the covariance matrix of the errors is correctly specified.\n"
     ]
    },
    {
     "name": "stderr",
     "output_type": "stream",
     "text": [
      "/Library/Frameworks/Python.framework/Versions/3.11/lib/python3.11/site-packages/statsmodels/stats/stattools.py:74: ValueWarning: omni_normtest is not valid with less than 8 observations; 4 samples were given.\n",
      "  warn(\"omni_normtest is not valid with less than 8 observations; %i \"\n"
     ]
    }
   ],
   "source": [
    "# Sample input\n",
    "X = [[1, 2], [2, 1], [2, 3], [3, 4]]\n",
    "y = [2, 3, 5, 4]\n",
    "\n",
    "# Function call\n",
    "linear_regression_analysis(X, y)"
   ]
  },
  {
   "cell_type": "markdown",
   "id": "7e6a4a5f-b725-4766-9fa6-92977d6d5982",
   "metadata": {},
   "source": [
    "1. The intercept is 1.3333 and the coefficients are $\\beta_1 = 0.6667$ and $\\beta_2 = 0.3333$.\n",
    "2. None of the coefficients were statistically significant. So this likely isn't a good candidate for linear regression.\n",
    "3. The coefficient of determination is 0.4667."
   ]
  },
  {
   "cell_type": "code",
   "execution_count": null,
   "id": "44437ea6-6805-4ee9-86c6-42ef96593f78",
   "metadata": {},
   "outputs": [],
   "source": []
  }
 ],
 "metadata": {
  "kernelspec": {
   "display_name": "Python 3 (ipykernel)",
   "language": "python",
   "name": "python3"
  },
  "language_info": {
   "codemirror_mode": {
    "name": "ipython",
    "version": 3
   },
   "file_extension": ".py",
   "mimetype": "text/x-python",
   "name": "python",
   "nbconvert_exporter": "python",
   "pygments_lexer": "ipython3",
   "version": "3.11.4"
  }
 },
 "nbformat": 4,
 "nbformat_minor": 5
}
